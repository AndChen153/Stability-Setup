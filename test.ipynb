{
 "cells": [
  {
   "cell_type": "code",
   "execution_count": 3,
   "metadata": {},
   "outputs": [],
   "source": [
    "import numpy as np\n",
    "import os\n"
   ]
  },
  {
   "cell_type": "code",
   "execution_count": null,
   "metadata": {},
   "outputs": [
    {
     "name": "stdout",
     "output_type": "stream",
     "text": [
      "82\n",
      "[0.9249, 0.9227, 0.9026, 0.9202, 0.971, 0.9474, 0.9201, 0.9754]\n"
     ]
    }
   ],
   "source": [
    "def find_voc(scan_filename):\n",
    "    arr = np.loadtxt(scan_filename, delimiter=\",\", dtype=str)\n",
    "    header_row = np.where(arr == \"Time\")[0][0]\n",
    "\n",
    "    meta_data = {}\n",
    "    for data in arr[:header_row, :2]:\n",
    "        meta_data[data[0]] = data[1]\n",
    "\n",
    "    arr = arr[header_row + 1 :, :]\n",
    "\n",
    "    data = arr[:, 2:-1]\n",
    "\n",
    "    pixel_V = data[:, ::2][:, ::-1].astype(float)\n",
    "    pixel_mA = data[:, 1::2][:, ::-1].astype(float)\n",
    "    print(len(pixel_V))\n",
    "    voc = []\n",
    "    for pixel_idx in range(8):\n",
    "        voc_idx = min(\n",
    "                range(len(pixel_mA[:, pixel_idx])),\n",
    "                key=lambda x: abs(pixel_mA[:, pixel_idx][x]),\n",
    "            )\n",
    "        voc.append(float(pixel_V[voc_idx, pixel_idx]))\n",
    "\n",
    "    return voc\n",
    "\n",
    "print(\n",
    "    find_voc(\n",
    "        r\"C:\\Users\\achen\\Dropbox\\code\\Stability-Setup\\data\\april_1_test\\Apr-01-2025 21_21_13\\Apr-01-2025_21-43-05__ID1__light__scan.csv\"\n",
    "    )\n",
    ")"
   ]
  },
  {
   "cell_type": "code",
   "execution_count": 4,
   "metadata": {},
   "outputs": [
    {
     "name": "stdout",
     "output_type": "stream",
     "text": [
      "[[6.83373278e+08 6.25892136e+00 6.97118298e+00 ... 1.71600000e-01\n",
      "  1.82000000e-01 9.08400000e-02]\n",
      " [7.09706295e+08 6.70273474e+00 7.54437663e+00 ... 1.74000000e-01\n",
      "  1.84600000e-01 1.83120000e-01]\n",
      " [7.37425260e+08 7.22165304e+00 8.00309392e+00 ... 1.75200000e-01\n",
      "  1.85900000e-01 2.98480000e-01]\n",
      " ...\n",
      " [3.75448338e+09 2.12301475e+02 2.44667245e+02 ... 9.57600000e-01\n",
      "  1.02750000e+00 1.26882680e+02]\n",
      " [3.74505893e+09 2.12740349e+02 2.45284760e+02 ... 9.50400000e-01\n",
      "  1.02000000e+00 1.27430090e+02]\n",
      " [3.74853640e+09 2.13276447e+02 2.44709915e+02 ... 9.44300000e-01\n",
      "  1.02000000e+00 1.27976790e+02]]\n"
     ]
    }
   ],
   "source": [
    "arr = np.loadtxt(r\"C:\\Users\\achen\\Dropbox\\code\\Stability-Setup\\data\\april_1_test\\Apr-01-2025 21_21_13\\Apr-01-2025_21-22-03__ID1__mppt.csv\", delimiter=\",\", dtype=str)\n",
    "header_row = np.where(arr == \"Time\")[0][0]\n",
    "\n",
    "meta_data = {}\n",
    "for data in arr[:header_row, :2]:\n",
    "\tmeta_data[data[0]] = data[1]\n",
    "\n",
    "headers = arr[header_row, :]\n",
    "arr = arr[header_row + 1 :, :]\n",
    "\n",
    "header_dict = {value: index for index, value in enumerate(headers)}\n",
    "\n",
    "pixel_V = arr[:, ::2][:, ::-1].astype(float)\n",
    "pixel_mA = arr[:, 1::2][:, ::-1].astype(float)\n",
    "time = np.array(arr[:, header_dict[\"Time\"]]).astype(\"float\")\n",
    "\n",
    "data = pixel_V*pixel_mA\n",
    "\n",
    "print(data)"
   ]
  },
  {
   "cell_type": "code",
   "execution_count": null,
   "metadata": {},
   "outputs": [
    {
     "name": "stdout",
     "output_type": "stream",
     "text": [
      "0.01758375\n"
     ]
    }
   ],
   "source": [
    "arrs = [\n",
    "    r\"C:\\Users\\achen\\Dropbox\\code\\Stability-Setup\\data\\Feb-21-2025 21_27_25\\Feb-21-2025 21_27_39lightID1scan.csv\",\n",
    "    r\"C:\\Users\\achen\\Dropbox\\code\\Stability-Setup\\data\\Feb-21-2025 21_29_06\\Feb-21-2025 21_29_07lightID1scan.csv\",\n",
    "    r\"C:\\Users\\achen\\Dropbox\\code\\Stability-Setup\\data\\Feb-21-2025 21_30_48\\Feb-21-2025 21_30_51lightID1scan.csv\",\n",
    "    r\"C:\\Users\\achen\\Dropbox\\code\\Stability-Setup\\data\\Feb-21-2025 21_36_55\\Feb-21-2025 21_36_57lightID1scan.csv\",\n",
    "    r\"C:\\Users\\achen\\Dropbox\\code\\Stability-Setup\\data\\Feb-21-2025 21_39_57\\Feb-21-2025 21_39_59lightID1scan.csv\",\n",
    "    r\"C:\\Users\\achen\\Dropbox\\code\\Stability-Setup\\data\\Feb-21-2025 21_41_06\\Feb-21-2025 21_41_07lightID1scan.csv\",\n",
    "\n",
    "]\n",
    "\n",
    "# 0.0435\n",
    "avg = []\n",
    "for i in arrs:\n",
    "arr = np.loadtxt(i, delimiter=\",\", dtype=str)\n",
    "time = arr[9:,0].astype(float)\n",
    "diffs = np.diff(time)\n",
    "positive_diffs = diffs[diffs >= 0]\n",
    "avg.append(np.mean(positive_diffs)/5)\n",
    "\n",
    "print(np.mean(avg))\n",
    "\n",
    "\n",
    "# '''\n",
    "# 1.2v/0.03v = 40 measurements\n",
    "# v_Range / step size = x\n",
    "# 1000* 1.2v / 0.05v/s = 2400ms\n",
    "# v_Range / rate  = y\n",
    "# 24s / 40 = 0.6 seconds per measurement\n",
    "# x / y = z\n",
    "# 600 ms per measurement\n",
    "# 0.6 - 0.00868*measurements\n",
    "# delay_time_ms = z - 0.00868 - measurement_count * measurement_delay\n",
    "# '''"
   ]
  },
  {
   "cell_type": "code",
   "execution_count": 26,
   "metadata": {},
   "outputs": [
    {
     "name": "stdout",
     "output_type": "stream",
     "text": [
      "Feb-25-2025_12-46-26 scan ['C:\\\\Users\\\\achen\\\\Dropbox\\\\code\\\\Stability-Setup\\\\data\\\\Feb-25-2025 12_46_22__file test\\\\Feb-25-2025_12-46-26__ID1__light__scan.csv', 'C:\\\\Users\\\\achen\\\\Dropbox\\\\code\\\\Stability-Setup\\\\data\\\\Feb-25-2025 12_46_22__file test\\\\Feb-25-2025_12-46-26__ID2__light__scan.csv']\n",
      "file test Feb-25-2025_12-46-26 scan ['C:\\\\Users\\\\achen\\\\Dropbox\\\\code\\\\Stability-Setup\\\\data\\\\Feb-25-2025 12_46_22__file test\\\\Feb-25-2025_12-46-26__file test__ID1__light__scan.csv', 'C:\\\\Users\\\\achen\\\\Dropbox\\\\code\\\\Stability-Setup\\\\data\\\\Feb-25-2025 12_46_22__file test\\\\Feb-25-2025_12-46-26__file test__ID2__light__scan.csv']\n",
      "file test Feb-25-2025_12-47-32 mppt ['C:\\\\Users\\\\achen\\\\Dropbox\\\\code\\\\Stability-Setup\\\\data\\\\Feb-25-2025 12_46_22__file test\\\\Feb-25-2025_12-47-32__file test__ID1__mppt.csv', 'C:\\\\Users\\\\achen\\\\Dropbox\\\\code\\\\Stability-Setup\\\\data\\\\Feb-25-2025 12_46_22__file test\\\\Feb-25-2025_12-47-32__file test__ID2__mppt.csv']\n"
     ]
    }
   ],
   "source": [
    "folder_path = (\n",
    "    r\"C:\\Users\\achen\\Dropbox\\code\\Stability-Setup\\data\\Feb-25-2025 12_46_22__file test\"\n",
    ")\n",
    "csv_files = sorted(\n",
    "    [\n",
    "        os.path.join(folder_path, f)\n",
    "        for f in os.listdir(folder_path)\n",
    "        if f.lower().endswith(\".csv\")\n",
    "    ]\n",
    ")\n",
    "\n",
    "def getPlotGroups(csv_files):\n",
    "    file_groups_dict = {}\n",
    "    for file in csv_files:\n",
    "        head, tail = os.path.split(file)\n",
    "        params = tail.split(\"__\")\n",
    "        filetype = params[-1].split(\".\")[0]  # get scan or mppt from scan.csv\n",
    "        if \"ID\" not in params[1]:\n",
    "            test_name = params[1]\n",
    "        else:\n",
    "            test_name = \"\"\n",
    "\n",
    "        name_parts = [val for val in [test_name, params[0], filetype] if val]\n",
    "\n",
    "        plot_name = \" \".join(name_parts)\n",
    "        if plot_name in file_groups_dict:\n",
    "            file_groups_dict[plot_name].append(file)\n",
    "        else:\n",
    "            file_groups_dict[plot_name] = [file]\n",
    "\n",
    "    return file_groups_dict\n",
    "\n",
    "\n",
    "for i in getPlotGroups(csv_files):\n",
    "    print(i, getPlotGroups(csv_files)[i])"
   ]
  },
  {
   "cell_type": "code",
   "execution_count": null,
   "metadata": {},
   "outputs": [
    {
     "name": "stdout",
     "output_type": "stream",
     "text": [
      "scan,0.3750, 0.00, 0.0239\n"
     ]
    }
   ],
   "source": [
    "params = ['0.3750','0.00','0.0239']\n",
    "command = \"scan,\" + \",\".join(params)\n",
    "\n",
    "print(command)"
   ]
  }
 ],
 "metadata": {
  "kernelspec": {
   "display_name": "stabilitySetup",
   "language": "python",
   "name": "python3"
  },
  "language_info": {
   "codemirror_mode": {
    "name": "ipython",
    "version": 3
   },
   "file_extension": ".py",
   "mimetype": "text/x-python",
   "name": "python",
   "nbconvert_exporter": "python",
   "pygments_lexer": "ipython3",
   "version": "3.10.16"
  }
 },
 "nbformat": 4,
 "nbformat_minor": 2
}
