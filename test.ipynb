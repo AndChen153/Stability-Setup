{
 "cells": [
  {
   "cell_type": "code",
   "execution_count": 2,
   "metadata": {},
   "outputs": [],
   "source": [
    "import numpy as np\n"
   ]
  },
  {
   "cell_type": "code",
   "execution_count": 9,
   "metadata": {},
   "outputs": [
    {
     "name": "stdout",
     "output_type": "stream",
     "text": [
      "0.01758375\n"
     ]
    }
   ],
   "source": [
    "arrs = [\n",
    "    r\"C:\\Users\\achen\\Dropbox\\code\\Stability-Setup\\data\\Feb-21-2025 21_27_25\\Feb-21-2025 21_27_39lightID1scan.csv\",\n",
    "    r\"C:\\Users\\achen\\Dropbox\\code\\Stability-Setup\\data\\Feb-21-2025 21_29_06\\Feb-21-2025 21_29_07lightID1scan.csv\",\n",
    "    r\"C:\\Users\\achen\\Dropbox\\code\\Stability-Setup\\data\\Feb-21-2025 21_30_48\\Feb-21-2025 21_30_51lightID1scan.csv\",\n",
    "    r\"C:\\Users\\achen\\Dropbox\\code\\Stability-Setup\\data\\Feb-21-2025 21_36_55\\Feb-21-2025 21_36_57lightID1scan.csv\",\n",
    "    r\"C:\\Users\\achen\\Dropbox\\code\\Stability-Setup\\data\\Feb-21-2025 21_39_57\\Feb-21-2025 21_39_59lightID1scan.csv\",\n",
    "    r\"C:\\Users\\achen\\Dropbox\\code\\Stability-Setup\\data\\Feb-21-2025 21_41_06\\Feb-21-2025 21_41_07lightID1scan.csv\",\n",
    "\n",
    "]\n",
    "\n",
    "# 0.0435\n",
    "avg = []\n",
    "for i in arrs:\n",
    "    arr = np.loadtxt(i, delimiter=\",\", dtype=str)\n",
    "    time = arr[9:,0].astype(float)\n",
    "    diffs = np.diff(time)\n",
    "    positive_diffs = diffs[diffs >= 0]\n",
    "    avg.append(np.mean(positive_diffs)/5)\n",
    "\n",
    "print(np.mean(avg))\n",
    "\n",
    "\n",
    "# '''\n",
    "# 1.2v/0.03v = 40 measurements\n",
    "# v_Range / step size = x\n",
    "# 1000* 1.2v / 0.05v/s = 2400ms\n",
    "# v_Range / rate  = y\n",
    "# 24s / 40 = 0.6 seconds per measurement\n",
    "# x / y = z\n",
    "# 600 ms per measurement\n",
    "# 0.6 - 0.00868*measurements\n",
    "# delay_time_ms = z - 0.00868 - measurement_count * measurement_delay\n",
    "# '''"
   ]
  },
  {
   "cell_type": "code",
   "execution_count": null,
   "metadata": {},
   "outputs": [
    {
     "name": "stdout",
     "output_type": "stream",
     "text": [
      "scan,0.3750, 0.00, 0.0239\n"
     ]
    }
   ],
   "source": [
    "params = ['0.3750','0.00','0.0239']\n",
    "command = \"scan,\" + \",\".join(params)\n",
    "\n",
    "print(command)"
   ]
  }
 ],
 "metadata": {
  "kernelspec": {
   "display_name": "stabilitySetup",
   "language": "python",
   "name": "python3"
  },
  "language_info": {
   "codemirror_mode": {
    "name": "ipython",
    "version": 3
   },
   "file_extension": ".py",
   "mimetype": "text/x-python",
   "name": "python",
   "nbconvert_exporter": "python",
   "pygments_lexer": "ipython3",
   "version": "3.10.16"
  }
 },
 "nbformat": 4,
 "nbformat_minor": 2
}
