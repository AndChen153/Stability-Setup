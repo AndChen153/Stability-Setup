{
 "cells": [
  {
   "cell_type": "code",
   "execution_count": 35,
   "metadata": {},
   "outputs": [
    {
     "name": "stdout",
     "output_type": "stream",
     "text": [
      "['I', 'am', 'using', 'hackerrank', 'to', 'improve', 'programming']\n",
      "['am', 'hackerrank', 'to', 'improve']\n"
     ]
    },
    {
     "data": {
      "text/plain": [
       "['I', 'using', 'programming']"
      ]
     },
     "execution_count": 35,
     "metadata": {},
     "output_type": "execute_result"
    }
   ],
   "source": [
    "def missingWords(s, t):\n",
    "    s_0 = s.split(\" \")\n",
    "    t_0 = t.split(\" \")\n",
    "    print(s_0)\n",
    "    print(t_0)\n",
    "    ret = []\n",
    "    for word in t_0:\n",
    "        # print(\"T\", word)\n",
    "        while word != s_0[0]:\n",
    "            # print(\"S\", s_0[0])\n",
    "            ret.append(s_0.pop(0))\n",
    "        s_0.pop(0)\n",
    "        # print(\"POPPED\", ))\n",
    "    ret += s_0\n",
    "    return ret\n",
    "missingWords(\"I am using hackerrank to improve programming\", \"am hackerrank to improve\")"
   ]
  },
  {
   "cell_type": "code",
   "execution_count": 42,
   "metadata": {},
   "outputs": [
    {
     "data": {
      "text/plain": [
       "'10'"
      ]
     },
     "execution_count": 42,
     "metadata": {},
     "output_type": "execute_result"
    }
   ],
   "source": [
    "def isPanagram(panagram):\n",
    "    ret = \"\"\n",
    "    alphabet = \"a b c d e f g h i j k l m n o p q r s t u v w x y z\".split(\" \")\n",
    "    for word in panagram:\n",
    "        np = False\n",
    "        for letter in alphabet:\n",
    "            if letter not in word:\n",
    "                np = True\n",
    "        if np:\n",
    "            ret += \"0\"\n",
    "        else:\n",
    "            ret += \"1\"\n",
    "            \n",
    "    return ret\n",
    "            \n",
    "    \n",
    "isPanagram([\"pack my box with five dozen liquor jugs\", \"this is not a panagram\"])\n",
    "    "
   ]
  },
  {
   "cell_type": "code",
   "execution_count": 36,
   "metadata": {},
   "outputs": [
    {
     "data": {
      "text/plain": [
       "'Function `someFunction` has two arguments short arg `veryLongArgument`. The `veryLongArgument` has a default_value of `CONSTANT_VALUE`._'"
      ]
     },
     "execution_count": 36,
     "metadata": {},
     "output_type": "execute_result"
    }
   ],
   "source": [
    "def docString(docstring):\n",
    "    docList = docstring.split(\"`\")\n",
    "    for i in range(1, len(docList), 2):\n",
    "        word = docList[i]\n",
    "        underscore_idx = [i for i, ltr in enumerate(word) if ltr == \"_\"]\n",
    "        for j in reversed(underscore_idx):\n",
    "            # print(j)\n",
    "            # print(j < tick_idx[1] and j > tick_idx[0])\n",
    "            if j == len(word)-1:\n",
    "                word = word[:-1]\n",
    "            elif j == 0:\n",
    "                word = word[1:]\n",
    "            elif word[j+1].upper() != word[j+1] or word[j-1].upper() != word[j-1]:\n",
    "                word = word[:j] + word[j+1].upper() + word[j+2:]\n",
    "        docList[i] = \"`\" + word + \"`\" \n",
    "\n",
    "    return \"\".join(docList)\n",
    "\n",
    "docString(\"Function `some_function` has two arguments short arg `very_long_argument`. The `very_long_argument` has a default_value of `CONSTANT_VALUE`._\")\n",
    "    "
   ]
  },
  {
   "cell_type": "code",
   "execution_count": 56,
   "metadata": {},
   "outputs": [
    {
     "name": "stdout",
     "output_type": "stream",
     "text": [
      "[3, 1, 2, 1, 2, 0]\n",
      "[2, 3, 0, 2]\n"
     ]
    }
   ],
   "source": [
    "#increment values of an array within a range python\n",
    "#https://www.geeksforgeeks.org/print-modified-array-multiple-array-range-increment-operations/\n",
    "#Print modified array after multiple array range increment operations\n",
    "def incrementByD(arr, q_arr, n, m, d):\n",
    " \n",
    "    sum = [0 for i in range(n)]\n",
    " \n",
    "    # for each (start, end) index pair perform\n",
    "    # the following operations on 'sum[]'\n",
    "    for i in range(m):\n",
    " \n",
    "        sum[q_arr[i][0]] += d\n",
    " \n",
    "        if ((q_arr[i][1] + 1) < n):\n",
    "            sum[q_arr[i][1] + 1] -= d\n",
    " \n",
    "    # Now, perform the following operations:\n",
    "    # accumulate values in the 'sum[]' array and\n",
    "    # then add them to the corresponding indexes\n",
    "    # in 'arr[]'\n",
    "    arr[0] += sum[0]\n",
    "    for i in range(1, n):\n",
    "        sum[i] += sum[i - 1]\n",
    "        arr[i] += sum[i]\n",
    "def lampIlluminate(lamps, points):\n",
    "    # print(max(map(max, lamps)))\n",
    "    street = [0]*(max(map(max, lamps))+1)\n",
    "    # print(len(street))\n",
    "    \n",
    "    incrementByD(street, lamps, len(street), len(lamps), 1)\n",
    "        # for j in range(i[0], i[1]+1):\n",
    "        #     street[j] += 1\n",
    "    for i in range(len(points)):\n",
    "        try:\n",
    "            points[i] = street[points[i]]\n",
    "        except:\n",
    "            points[i] = 0\n",
    "    return points\n",
    "print(lampIlluminate([[1,7],[5,11],[7,9]], [7,1,5,10,9,15]))\n",
    "print(lampIlluminate([[2,9],[6,13],[8,10]], [6,8,1,6]))\n"
   ]
  },
  {
   "cell_type": "code",
   "execution_count": 8,
   "metadata": {},
   "outputs": [
    {
     "name": "stdout",
     "output_type": "stream",
     "text": [
      "128\n",
      "20\n"
     ]
    }
   ],
   "source": [
    "x = 1\n",
    "i = 1\n",
    "while i < 128:\n",
    "    x += x\n",
    "    i +=i\n",
    "print(x)\n",
    "\n",
    "a = 1\n",
    "n = 1000000\n",
    "count = 0\n",
    "while (a < n):\n",
    "    a = a*2\n",
    "    count += 1\n",
    "\n",
    "print (count)"
   ]
  },
  {
   "cell_type": "code",
   "execution_count": 6,
   "metadata": {},
   "outputs": [
    {
     "name": "stdout",
     "output_type": "stream",
     "text": [
      "['Alex', 'Chris', 'Chris']\n",
      "['Chris', 'Alex', 'Chris']\n"
     ]
    }
   ],
   "source": [
    "def system_strings(s):\n",
    "    winners = []\n",
    "    vowels = set(\"aeiou\")\n",
    "    for sub in s:\n",
    "        vowelCount = 0\n",
    "        for letter in sub:\n",
    "            if letter in vowels:\n",
    "                vowelCount += 1\n",
    "        if vowelCount %2 == 0:\n",
    "            winners.append(\"Chris\")\n",
    "        else:\n",
    "            winners.append(\"Alex\")\n",
    "    return winners\n",
    "print(system_strings([\"ljis\",\"lhr\", \"gms\"]))\n",
    "print(system_strings([\"lgzpc\", \"lchxlo\", \"xrwzg\"]))\n"
   ]
  },
  {
   "cell_type": "code",
   "execution_count": 22,
   "metadata": {},
   "outputs": [
    {
     "name": "stdout",
     "output_type": "stream",
     "text": [
      "-1\n",
      "12\n",
      "9\n"
     ]
    }
   ],
   "source": [
    "# def getMaximumProfit(price, profit):\n",
    "#     n = len(price)\n",
    "    \n",
    "#     # Step 1: Calculate left maximum profit array\n",
    "#     left = [0] * n\n",
    "#     for i in range(1, n):\n",
    "#         left[i] = left[i-1]\n",
    "#         for j in range(i):\n",
    "#             if price[j] < price[i]:\n",
    "#                 left[i] = max(left[i], profit[j])\n",
    "    \n",
    "#     # Step 2: Calculate right maximum profit array\n",
    "#     right = [0] * n\n",
    "#     for i in range(n-2, -1, -1):\n",
    "#         right[i] = right[i+1]\n",
    "#         for j in range(n-1, i, -1):\n",
    "#             if price[i] < price[j]:\n",
    "#                 right[i] = max(right[i], profit[j])\n",
    "    \n",
    "#     # Step 3: Calculate result\n",
    "#     result = 0\n",
    "#     for i in range(n):\n",
    "#         result = max(result, left[i] + profit[i] + right[i])\n",
    "    \n",
    "#     # Step 4: Return result or -1\n",
    "#     if result == 0:\n",
    "#         return -1\n",
    "#     return result\n",
    "\n",
    "def getMaximumProfit(price, profit):\n",
    "    n = len(price)\n",
    "    \n",
    "    # Step 1: Compute max profit from any day before day i for each day i\n",
    "    max_profit_before = [0] * n\n",
    "    max_profit = -float('inf')\n",
    "    min_price = price[0]\n",
    "    for i in range(1, n):\n",
    "        if price[i] > min_price:\n",
    "            max_profit = max(max_profit, profit[i-1])\n",
    "        max_profit_before[i] = max_profit\n",
    "        min_price = min(min_price, price[i])\n",
    "    \n",
    "    # Step 2: Compute max profit from any day after day i for each day i\n",
    "    max_profit_after = [0] * n\n",
    "    max_profit = -float('inf')\n",
    "    max_price = price[-1]\n",
    "    for i in range(n-2, -1, -1):\n",
    "        if price[i] < max_price:\n",
    "            max_profit = max(max_profit, profit[i+1])\n",
    "        max_profit_after[i] = max_profit\n",
    "        max_price = max(max_price, price[i])\n",
    "    \n",
    "    # Step 3: Compute max possible total profit for each day i\n",
    "    result = -1\n",
    "    for i in range(1, n-1):\n",
    "        if price[i] > price[i-1] and price[i] < price[i+1]:\n",
    "            result = max(result, max_profit_before[i] + profit[i] + max_profit_after[i])\n",
    "    \n",
    "    return result\n",
    "    \n",
    "    \n",
    "    \n",
    "\n",
    "price = [4,3,2,1]\n",
    "profit = [4,3,2,1]\n",
    "\n",
    "print(getMaximumProfit(price, profit))\n",
    "\n",
    "price = [2, 3, 1, 5, 9]\n",
    "profit = [1, 2, 6, 1, 5]\n",
    "print(getMaximumProfit(price, profit))  # Expected output: 12\n",
    "\n",
    "price = [1, 11, 12, 12, 12]\n",
    "profit = [2, 3, 4, 5, 6]\n",
    "print(getMaximumProfit(price, profit))  # Expected output: 11\n"
   ]
  },
  {
   "cell_type": "code",
   "execution_count": 21,
   "metadata": {},
   "outputs": [
    {
     "name": "stdout",
     "output_type": "stream",
     "text": [
      "0\n",
      "1,2\n",
      "2\n",
      "0\n",
      "1,2,3,1\n",
      "4\n",
      "2\n",
      "3,1,4\n"
     ]
    }
   ],
   "source": [
    "import sys\n",
    "class LogServer:\n",
    "    \n",
    "    def __init__(self, max_logs):\n",
    "        self.record = []\n",
    "        self.max_logs = max_logs\n",
    "        self.oldest_idx = 0\n",
    "    \n",
    "    def recordLog(self, logId, timestamp):\n",
    "        self.record.append((logId, timestamp))\n",
    "        while self.record[self.oldest_idx][1] <= timestamp - 60*60:\n",
    "            self.oldest_idx += 1\n",
    "        \n",
    "\n",
    "    def getLogs(self):\n",
    "        retstr = \"\"\n",
    "        count = max([0, len(self.record)-self.max_logs, self.oldest_idx])\n",
    "        for i in range(count, len(self.record)):\n",
    "            retstr += str(self.record[i][0]) + \",\"\n",
    "        print(retstr[:-1])\n",
    "    \n",
    "    def getLogCount(self):\n",
    "        print (len(self.record) - self.oldest_idx)\n",
    "        \n",
    "logserver = LogServer(100)\n",
    "logserver.recordLog(1,0)\n",
    "logserver.recordLog(2,300)\n",
    "logserver.getLogs()\n",
    "logserver.getLogCount()\n",
    "logserver.recordLog(3,1200)\n",
    "logserver.recordLog(1, 1800)\n",
    "logserver.getLogs()\n",
    "logserver.getLogCount()\n",
    "logserver.recordLog(4, 3900)\n",
    "logserver.getLogs()\n"
   ]
  },
  {
   "cell_type": "code",
   "execution_count": 52,
   "metadata": {},
   "outputs": [
    {
     "name": "stdout",
     "output_type": "stream",
     "text": [
      "hi\n",
      "hello\n",
      "bye\n"
     ]
    }
   ],
   "source": [
    "class Printer:\n",
    "    def on_message_complete(self, message):\n",
    "        print(message)\n",
    "\n",
    "class Decoder:\n",
    "    def __init__(self, printer):\n",
    "        self.printer = printer\n",
    "        self.latest_complete = 0\n",
    "        self.record = []\n",
    "        \n",
    "    def process_sample(self, sequence, character):\n",
    "        if len(self.record) < sequence:\n",
    "            self.record.extend([\"0\"]*(sequence - len(self.record)))\n",
    "        self.record[sequence-1] = character\n",
    "        \n",
    "        \n",
    "        complete_string = \"\".join(self.record)\n",
    "        if \"-\" in complete_string:\n",
    "            last_dash = len(complete_string) - 1 -complete_string[::-1].index(\"-\")\n",
    "            retStr = list(filter(None, complete_string[:last_dash].split(\"-\")))\n",
    "            \n",
    "            # print(retStr)\n",
    "            for i in range(self.latest_complete, len(retStr)):\n",
    "                if \"0\" not in retStr[i]:\n",
    "                    self.latest_complete = i + 1\n",
    "                    self.printer.on_message_complete(retStr[i])\n",
    "        \n",
    "printer = Printer()\n",
    "decoder = Decoder(printer)\n",
    "decoder.process_sample(1,\"-\")\n",
    "decoder.process_sample(2,\"b\")\n",
    "decoder.process_sample(3,\"y\")\n",
    "decoder.process_sample(5,\"-\")\n",
    "decoder.process_sample(6,\"h\")\n",
    "decoder.process_sample(7,\"i\")\n",
    "decoder.process_sample(8,\"-\")\n",
    "decoder.process_sample(4,\"e\")\n",
    "\n",
    "printer = Printer()\n",
    "decoder = Decoder(printer)\n",
    "decoder.process_sample(1,\"-\")\n",
    "decoder.process_sample(2,\"h\")\n",
    "decoder.process_sample(3,\"e\")\n",
    "decoder.process_sample(4,\"l\")\n",
    "decoder.process_sample(5,\"l\")\n",
    "decoder.process_sample(6,\"o\")\n",
    "decoder.process_sample(7,\"-\")\n",
    "decoder.process_sample(8,\"b\")\n",
    "decoder.process_sample(9,\"y\")\n",
    "decoder.process_sample(10,\"e\")\n",
    "decoder.process_sample(11,\"-\")\n"
   ]
  },
  {
   "cell_type": "code",
   "execution_count": 7,
   "metadata": {},
   "outputs": [
    {
     "name": "stdout",
     "output_type": "stream",
     "text": [
      "4.0\n"
     ]
    }
   ],
   "source": [
    "data = ['1.4490', ' 0.00', ' 0.00', ' 0.99', ' -0.10', ' 0.74', ' -0.10', ' 0.29', ' 0.00', ' 0.60', ' 0.00', ' 1.07', ' 0.05', ' 0.46', ' -0.05', ' 0.76', ' 0.00', ' 1.03', ' -0.10', ' 1.62', ' -0.05', ' 0.91', ' -0.10', ' 0.87', ' 0.05', ' 1.21', ' -0.05', ' 1.35', ' -0.05', ' 0.98', ' 0.10', ' 0.94', ' 0.10', ' 1.04', ' -0.05', ' 0.80', ' -0.10', ' 1.06', ' -0.05', ' 0.19', ' -0.05', ' 0.92', ' 0.00', ' 0.00', ' 0.00', ' 0.97', ' -0.05', ' 0.92', ' -0.05', ' 0.68', ' 0.05', ' 0.82', ' -0.10', ' 0.87', ' 0.00', ' 0.00', ' -0.05', ' 0.16', ' 0.00', ' 0.32', ' 0.00', ' 1.09', ' 0.00', ' 1.46', ' -0.10', ' 0.0000', ' -0.7734', ' -0.5781', ' 0.0000', ' 0.0000', ' 0.4187', ' -0.1797', ' 0.0000', ' -0.8016', ' -0.6313', ' -0.7094', ' 0.3406', ' -0.4703', ' -0.5266', ' 0.7625', ' 0.7312', ' -0.4047', ' -0.6281', ' -0.4141', ' -0.0734', ' 0.0000', ' 0.0000', ' -0.3781', ' -0.3609', ' 0.2672', ' -0.6375', ' 0.0000', ' 0.0000', ' 0.0000', ' 0.0000', ' 0.0000', ' -1.1375', ' 0']\n",
    "print((len(data)-2)/24)"
   ]
  }
 ],
 "metadata": {
  "kernelspec": {
   "display_name": "stabilitySetup",
   "language": "python",
   "name": "python3"
  },
  "language_info": {
   "codemirror_mode": {
    "name": "ipython",
    "version": 3
   },
   "file_extension": ".py",
   "mimetype": "text/x-python",
   "name": "python",
   "nbconvert_exporter": "python",
   "pygments_lexer": "ipython3",
   "version": "3.10.4"
  },
  "orig_nbformat": 4
 },
 "nbformat": 4,
 "nbformat_minor": 2
}
